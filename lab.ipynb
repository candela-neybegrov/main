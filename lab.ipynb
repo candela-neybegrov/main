{
  "nbformat": 4,
  "nbformat_minor": 0,
  "metadata": {
    "colab": {
      "name": "lab",
      "provenance": [],
      "collapsed_sections": []
    },
    "kernelspec": {
      "name": "python3",
      "display_name": "Python 3"
    }
  },
  "cells": [
    {
      "cell_type": "markdown",
      "metadata": {
        "id": "fUO0q03jm1ko"
      },
      "source": [
        "# Stage 1(Form)"
      ]
    },
    {
      "cell_type": "markdown",
      "metadata": {
        "id": "rtmJDmuffin1"
      },
      "source": [
        "Никитин Н.В. Ки19-20Б 20.02.2021"
      ]
    },
    {
      "cell_type": "code",
      "metadata": {
        "colab": {
          "base_uri": "https://localhost:8080/"
        },
        "id": "t7wP2fAHfIE8",
        "outputId": "b3d45fb7-b4c8-4228-97e8-d6f8417e0b30"
      },
      "source": [
        "#@title Form 1\r\n",
        "#@markdown ---------\r\n",
        "name = \" Nikitin Nikita\" #@param{type: \"string\"}\r\n",
        "group = \"KI19-20B\" #@param[\"KI19-20B\", \"KI19-21B\", \"KI19-22B\"]\r\n",
        "data = \"2021-02-20\" #@param{type:\"date\"}\r\n",
        "#@markdown --------\r\n",
        "checked = True #@param {type:\"boolean\"}\r\n",
        "age = 20 #@param {type:\"integer\"}\r\n",
        "year_study = 2 #@param{type:\"slider\", min: \"1\", max: \"6\"}\r\n",
        "average_grade = 5 #@param{type:\"slider\", min: \"2\", max: \"5\"}\r\n",
        "if name == \"\":\r\n",
        "   print('Print name');\r\n",
        "else:\r\n",
        "   print('FIO', name);\r\n",
        "   print('Group', group);\r\n",
        "   print('Date', data)\r\n",
        "if checked:\r\n",
        "     print('Age', age);\r\n",
        "     print('year_study', year_study);\r\n",
        "     print('average_grade', average_grade)\r\n",
        "\r\n"
      ],
      "execution_count": null,
      "outputs": [
        {
          "output_type": "stream",
          "text": [
            "FIO  Nikitin Nikita\n",
            "Group KI19-20B\n",
            "Date 2021-02-20\n",
            "Age 20\n",
            "year_study 2\n",
            "average_grade 5\n"
          ],
          "name": "stdout"
        }
      ]
    },
    {
      "cell_type": "markdown",
      "metadata": {
        "id": "mrjGAsBlm3Zx"
      },
      "source": [
        "# Stage 2"
      ]
    },
    {
      "cell_type": "code",
      "metadata": {
        "id": "GSH_-plVnRQj"
      },
      "source": [
        "import pandas as pd"
      ],
      "execution_count": null,
      "outputs": []
    },
    {
      "cell_type": "code",
      "metadata": {
        "id": "7kFWeyO3oMVY"
      },
      "source": [
        "data1 = pd.read_csv(\"/content/sample_data/california_housing_test.csv\")"
      ],
      "execution_count": null,
      "outputs": []
    },
    {
      "cell_type": "code",
      "metadata": {
        "colab": {
          "base_uri": "https://localhost:8080/"
        },
        "id": "NQivcdZrp6Z7",
        "outputId": "8ec9830f-9ef6-44c0-f71d-d2e3710b3935"
      },
      "source": [
        "print(data1)"
      ],
      "execution_count": null,
      "outputs": [
        {
          "output_type": "stream",
          "text": [
            "      longitude  latitude  ...  median_income  median_house_value\n",
            "0       -122.05     37.37  ...         6.6085            344700.0\n",
            "1       -118.30     34.26  ...         3.5990            176500.0\n",
            "2       -117.81     33.78  ...         5.7934            270500.0\n",
            "3       -118.36     33.82  ...         6.1359            330000.0\n",
            "4       -119.67     36.33  ...         2.9375             81700.0\n",
            "...         ...       ...  ...            ...                 ...\n",
            "2995    -119.86     34.42  ...         1.1790            225000.0\n",
            "2996    -118.14     34.06  ...         3.3906            237200.0\n",
            "2997    -119.70     36.30  ...         2.2895             62000.0\n",
            "2998    -117.12     34.10  ...         3.2708            162500.0\n",
            "2999    -119.63     34.42  ...         8.5608            500001.0\n",
            "\n",
            "[3000 rows x 9 columns]\n"
          ],
          "name": "stdout"
        }
      ]
    },
    {
      "cell_type": "code",
      "metadata": {
        "id": "C8jomFmOqcUj"
      },
      "source": [
        "data2 = pd.read_csv(\"/content/sample_data/mnist_train_small.csv\")"
      ],
      "execution_count": null,
      "outputs": []
    },
    {
      "cell_type": "code",
      "metadata": {
        "colab": {
          "base_uri": "https://localhost:8080/"
        },
        "id": "jlBbCzp3qpGh",
        "outputId": "19885387-a2b6-4c5d-fe64-53367733bf91"
      },
      "source": [
        "print(data2)"
      ],
      "execution_count": null,
      "outputs": [
        {
          "output_type": "stream",
          "text": [
            "       6  0  0.1  0.2  0.3  0.4  ...  0.585  0.586  0.587  0.588  0.589  0.590\n",
            "0      5  0    0    0    0    0  ...      0      0      0      0      0      0\n",
            "1      7  0    0    0    0    0  ...      0      0      0      0      0      0\n",
            "2      9  0    0    0    0    0  ...      0      0      0      0      0      0\n",
            "3      5  0    0    0    0    0  ...      0      0      0      0      0      0\n",
            "4      2  0    0    0    0    0  ...      0      0      0      0      0      0\n",
            "...   .. ..  ...  ...  ...  ...  ...    ...    ...    ...    ...    ...    ...\n",
            "19994  0  0    0    0    0    0  ...      0      0      0      0      0      0\n",
            "19995  1  0    0    0    0    0  ...      0      0      0      0      0      0\n",
            "19996  2  0    0    0    0    0  ...      0      0      0      0      0      0\n",
            "19997  9  0    0    0    0    0  ...      0      0      0      0      0      0\n",
            "19998  5  0    0    0    0    0  ...      0      0      0      0      0      0\n",
            "\n",
            "[19999 rows x 785 columns]\n"
          ],
          "name": "stdout"
        }
      ]
    },
    {
      "cell_type": "code",
      "metadata": {
        "colab": {
          "base_uri": "https://localhost:8080/"
        },
        "id": "1x5JlrsLC_Ov",
        "outputId": "a50c9349-1e94-434e-ac5d-de59fee6244f"
      },
      "source": [
        "print('Привет, мир!')"
      ],
      "execution_count": 1,
      "outputs": [
        {
          "output_type": "stream",
          "text": [
            "Привет, мир!\n"
          ],
          "name": "stdout"
        }
      ]
    }
  ]
}